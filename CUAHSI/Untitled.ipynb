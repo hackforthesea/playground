{
 "cells": [
  {
   "cell_type": "code",
   "execution_count": null,
   "metadata": {},
   "outputs": [],
   "source": [
    "import pandas as pd\n",
    "\n",
    "from plotly import tools\n",
    "import plotly.offline as py\n",
    "import plotly.graph_objs as go\n",
    "py.init_notebook_mode()"
   ]
  },
  {
   "cell_type": "code",
   "execution_count": null,
   "metadata": {},
   "outputs": [],
   "source": [
    "ph_df = pd.read_table('./data/gleon_lakeannie-gleon_lake_annie_buoy_stage_minus_01.35m-ph.csv',\n",
    "                      skiprows=2,\n",
    "                      index_col=\"UTCTimeStamp\",\n",
    "                      delimiter=\",\")\n",
    "\n",
    "electricity_df = pd.read_table('./data/gleon_lakeannie-gleon_lake_annie_buoy_stage_minus_01.35m-electrical_conductivity.csv',\n",
    "                               skiprows=2,\n",
    "                               index_col=\"UTCTimeStamp\",\n",
    "                               low_memory=False,\n",
    "                               delimiter=\",\")\n",
    "\n",
    "radiation_df = pd.read_table('./data/gleon_lakeannie-gleon_lake_annie_buoy_stage_plus_02.0m-radiation__total_incoming.csv',\n",
    "                             skiprows=2,\n",
    "                             index_col=\"UTCTimeStamp\",\n",
    "                             delimiter=\",\")\n",
    "\n",
    "ph_df.index = pd.to_datetime(ph_df.index)\n",
    "electricity_df.index = pd.to_datetime(electricity_df.index)\n",
    "radiation_df.index = pd.to_datetime(radiation_df.index)"
   ]
  },
  {
   "cell_type": "code",
   "execution_count": null,
   "metadata": {},
   "outputs": [],
   "source": [
    "ph_df[ph_df['Value'] > 14] = 0\n",
    "electricity_df[electricity_df['Value'] < 14] = 0\n",
    "electricity_df[electricity_df['Value'] > 1000] = 0\n",
    "\n",
    "trace1 = go.Scatter(\n",
    "    x=ph_df.index,\n",
    "    y=ph_df['Value'],\n",
    "    name=\"Ph\"\n",
    ")\n",
    "\n",
    "trace2 = go.Scatter(\n",
    "    x=electricity_df.index,\n",
    "    y=electricity_df['Value'],\n",
    "    name=\"Electricity Conductivity\"\n",
    ")\n",
    "\n",
    "fig = tools.make_subplots(rows=2, cols=1, print_grid=False, subplot_titles=('PH', 'Electricity'))\n",
    "fig['layout'].update(height=600, width=600, title=\"Sensor located at 1.35 meters below stage value\")\n",
    "\n",
    "fig.append_trace(trace1, 1, 1)\n",
    "fig.append_trace(trace2, 2, 1)\n",
    "\n",
    "py.iplot(fig)"
   ]
  }
 ],
 "metadata": {
  "kernelspec": {
   "display_name": "Python 3",
   "language": "python",
   "name": "python3"
  },
  "language_info": {
   "codemirror_mode": {
    "name": "ipython",
    "version": 3
   },
   "file_extension": ".py",
   "mimetype": "text/x-python",
   "name": "python",
   "nbconvert_exporter": "python",
   "pygments_lexer": "ipython3",
   "version": "3.4.3"
  }
 },
 "nbformat": 4,
 "nbformat_minor": 2
}
